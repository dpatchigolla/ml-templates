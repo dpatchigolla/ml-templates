{
 "cells": [
  {
   "cell_type": "markdown",
   "id": "708c7d00-b7bb-4a73-a36a-d82aa681c9ab",
   "metadata": {},
   "source": [
    "Getting nearest neighbors for a vector from a large matrix"
   ]
  },
  {
   "cell_type": "code",
   "execution_count": 1,
   "id": "81baa0d3-04c4-41d9-a875-9f2610ea73f2",
   "metadata": {},
   "outputs": [],
   "source": [
    "import numpy as np\n",
    "from sklearn.neighbors import NearestNeighbors\n",
    "from sklearn.metrics.pairwise import cosine_similarity, cosine_distances"
   ]
  },
  {
   "cell_type": "code",
   "execution_count": 2,
   "id": "e017dc9c-c1eb-4ee2-b384-7d4de5dad462",
   "metadata": {},
   "outputs": [],
   "source": [
    "np.random.seed(42)\n",
    "all_embeddings = np.random.rand(100000, 100)\n",
    "single_vec = np.random.rand(1,100)"
   ]
  },
  {
   "cell_type": "code",
   "execution_count": 3,
   "id": "96ee203e-fd08-4805-bf2a-fd429d178a85",
   "metadata": {},
   "outputs": [
    {
     "name": "stdout",
     "output_type": "stream",
     "text": [
      "CPU times: user 7.04 ms, sys: 750 µs, total: 7.79 ms\n",
      "Wall time: 6.65 ms\n"
     ]
    },
    {
     "data": {
      "text/plain": [
       "NearestNeighbors(metric='cosine')"
      ]
     },
     "execution_count": 3,
     "metadata": {},
     "output_type": "execute_result"
    }
   ],
   "source": [
    "%%time\n",
    "nn = NearestNeighbors(metric='cosine')\n",
    "nn.fit(all_embeddings)"
   ]
  },
  {
   "cell_type": "code",
   "execution_count": 4,
   "id": "e65a63f2-af86-4b58-a68f-0e15a4f4300e",
   "metadata": {},
   "outputs": [
    {
     "name": "stdout",
     "output_type": "stream",
     "text": [
      "CPU times: user 112 ms, sys: 36.6 ms, total: 148 ms\n",
      "Wall time: 83.9 ms\n"
     ]
    }
   ],
   "source": [
    "%%time\n",
    "nn_distance, nn_indices = nn.kneighbors(single_vec)"
   ]
  },
  {
   "cell_type": "code",
   "execution_count": 5,
   "id": "d6768d81-36df-4af1-8880-682fc0b350ec",
   "metadata": {},
   "outputs": [
    {
     "data": {
      "text/plain": [
       "array([[0.13628703, 0.13768612, 0.13923653, 0.14063106, 0.14424645]])"
      ]
     },
     "execution_count": 5,
     "metadata": {},
     "output_type": "execute_result"
    }
   ],
   "source": [
    "nn_distance"
   ]
  },
  {
   "cell_type": "code",
   "execution_count": 6,
   "id": "600fb787-099b-407a-921d-e52f80223eba",
   "metadata": {},
   "outputs": [
    {
     "data": {
      "text/plain": [
       "array([0.13628703])"
      ]
     },
     "execution_count": 6,
     "metadata": {},
     "output_type": "execute_result"
    }
   ],
   "source": [
    "cosine_distances(single_vec, all_embeddings[nn_indices[0][0],:].reshape(1,-1))[0]"
   ]
  },
  {
   "cell_type": "code",
   "execution_count": null,
   "id": "ee9608ca-843a-4153-ab39-50aa640812bf",
   "metadata": {},
   "outputs": [],
   "source": []
  }
 ],
 "metadata": {
  "kernelspec": {
   "display_name": "Python 3",
   "language": "python",
   "name": "python3"
  },
  "language_info": {
   "codemirror_mode": {
    "name": "ipython",
    "version": 3
   },
   "file_extension": ".py",
   "mimetype": "text/x-python",
   "name": "python",
   "nbconvert_exporter": "python",
   "pygments_lexer": "ipython3",
   "version": "3.8.8"
  }
 },
 "nbformat": 4,
 "nbformat_minor": 5
}
