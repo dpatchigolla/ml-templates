{
 "cells": [
  {
   "cell_type": "markdown",
   "id": "b73a453b-b2ba-4d11-a31b-d71395014d6d",
   "metadata": {},
   "source": [
    "Solves Wordle game (https://www.powerlanguage.co.uk/wordle/)\n",
    "\n",
    "\n",
    "Required: Download Collins Scrabble words dictionary from following location:\n",
    "\n",
    "https://drive.google.com/file/d/1oGDf1wjWp5RF_X9C7HoedhIWMh5uJs8s/view (Also available in github along with this notebook)"
   ]
  },
  {
   "cell_type": "code",
   "execution_count": 1,
   "id": "f9e01893-d4d7-47e6-8e3d-d3190cd99929",
   "metadata": {},
   "outputs": [],
   "source": [
    "from collections import Counter, defaultdict\n",
    "import copy\n",
    "from typing import List, Optional, Dict, Tuple\n"
   ]
  },
  {
   "cell_type": "code",
   "execution_count": 2,
   "id": "656be81d-3f0e-4074-8065-e94093386189",
   "metadata": {},
   "outputs": [],
   "source": [
    "def dedup_scorer(word, \n",
    "                 char_scores,\n",
    "                 known_greys: List[str] = None, \n",
    "                 known_yellows: Dict[str,List[int]] = None) -> int:\n",
    "    \"\"\"\n",
    "    When a char occurs multiple times in a word, this returns the score by counting it only in the most frequent position\n",
    "    word: Current word for which score should be computed\n",
    "    char_scores: Dictionary with each alphabet as key, and value is another dictionary with char position(0 to 4) as keys and word frequency in that position as values\n",
    "    known_greys: List of alphabets that are known to be not present in the word. Response from wordle\n",
    "    known_yellows: Dictionary with yellow colored alphabets as keys, and values as positions where they are known to be absent\n",
    "    Returns: score with below logic\n",
    "    Logic: If the word contains any char from known_greys or char from known_yellows with char in same position known to be invalid, score is automatically zero.\n",
    "    Else:\n",
    "    For every character, score is the no:of words where the character is seen in same position. \n",
    "    If a char is present multiple times in word, it is counted only once in the position where score is highest.\n",
    "    These char level scores are summed up to give word score\n",
    "    \"\"\"\n",
    "    chars = list(word)\n",
    "    if known_greys:\n",
    "        for char in chars:\n",
    "            if char in known_greys:\n",
    "                return 0\n",
    "    if known_yellows:\n",
    "        for char, pos_list in known_yellows.items():\n",
    "            if char not in chars:\n",
    "                return 0\n",
    "            for pos in pos_list:\n",
    "                if chars[pos] == char:\n",
    "                    return 0\n",
    "    if max([chars.count(char) for char in chars]) == 1:\n",
    "        s=0\n",
    "        for pos, char in enumerate(chars):\n",
    "            s+=char_scores[char].get(pos,0)\n",
    "    else:\n",
    "        s=0\n",
    "        char_counter = defaultdict(list)\n",
    "        for pos, char in enumerate(chars):\n",
    "            char_counter[char].append(pos)\n",
    "        for char, pos_list in char_counter.items():\n",
    "            max_score = 0\n",
    "            for pos in pos_list:\n",
    "                if char_scores[char].get(pos,0)>max_score:\n",
    "                    max_score = char_scores[char][pos]\n",
    "            s += max_score\n",
    "\n",
    "    return s\n",
    "\n",
    "def score_words_by_position(words_list: List[str], \n",
    "                            char_scores: Dict[str, Dict[int, int]],\n",
    "                            known_greys: List[str] = None,\n",
    "                            known_yellows: Dict[str,List[int]] = None):\n",
    "    \"\"\"\n",
    "    For each word, score is from term frequency at that position. If word contains a word more than once, it gets only one score - whichever is highest.\n",
    "    \"\"\"\n",
    "    word_scores = {}\n",
    "    for word in words_list:\n",
    "        word_scores[word] = dedup_scorer(word, char_scores, known_greys, known_yellows)\n",
    "    return word_scores\n",
    "\n",
    "def update_char_scores(char_scores_by_pos, wordle_word, wordle_response: Tuple[int]) -> Dict[str, Dict[int, int]]:\n",
    "    new_scores = copy.deepcopy(char_scores_by_pos)\n",
    "    for position, char in enumerate(wordle_word):\n",
    "        if wordle_response[position] == 0:\n",
    "            for pos in range(5):\n",
    "                new_scores[char][pos] = 0\n",
    "        elif wordle_response[position] == 1:\n",
    "            new_scores[char][position] = 0\n",
    "        elif wordle_response[position] == 2:\n",
    "            new_scores[char][position] = 100000\n",
    "    return new_scores\n",
    "        \n",
    "\n",
    "def update_greys(current_greys: List[str], token: str, wordle_response: List[int]):\n",
    "    current_greys_upd = current_greys.copy()\n",
    "    for pos, char in enumerate(list(token)):\n",
    "        if char in current_greys_upd:\n",
    "            # known info.\n",
    "            continue\n",
    "        elif wordle_response[pos] == 0:\n",
    "            current_greys_upd.append(char)\n",
    "    return current_greys_upd\n",
    "\n",
    "def update_yellows(current_yellows: Dict[str, List[int]], token: str, wordle_response: List[int]):\n",
    "    current_yellows_upd = copy.deepcopy(current_yellows)\n",
    "    for pos, char in enumerate(token):\n",
    "        if wordle_response[pos] == 1:\n",
    "            if char not in current_yellows_upd:\n",
    "                current_yellows_upd[char] = []\n",
    "            if pos not in current_yellows_upd[char]:\n",
    "                current_yellows_upd[char].append(pos)\n",
    "    return current_yellows_upd"
   ]
  },
  {
   "cell_type": "code",
   "execution_count": 3,
   "id": "6355ec28-2ba8-4088-9ed7-d8f794b1efbe",
   "metadata": {},
   "outputs": [],
   "source": [
    "with open(\"/Users/dileep/Downloads/Collins Scrabble Words (2019).txt\",\"r\") as f:\n",
    "    word_list = f.read().splitlines()\n",
    "WORD_LENGTH = 5\n",
    "\n",
    "valid_words = [word for word in word_list if len(word) == WORD_LENGTH]"
   ]
  },
  {
   "cell_type": "code",
   "execution_count": 4,
   "id": "fbeaa546-4875-4caa-b55f-c80edf1ebdbc",
   "metadata": {},
   "outputs": [],
   "source": [
    "char_scores_by_position = defaultdict(dict)"
   ]
  },
  {
   "cell_type": "code",
   "execution_count": 5,
   "id": "1f9eac8a-9f4f-4954-94aa-5ab440913ac3",
   "metadata": {},
   "outputs": [],
   "source": [
    "for word in valid_words:\n",
    "    for position, char in enumerate(list(word)):\n",
    "        char_score_ = char_scores_by_position[char]\n",
    "        if char_score_.get(position) is None:\n",
    "            char_score_[position] = 0\n",
    "        char_score_[position] += 1"
   ]
  },
  {
   "cell_type": "code",
   "execution_count": 6,
   "id": "6364d219-7575-4aaa-80dc-9561b58943f3",
   "metadata": {},
   "outputs": [
    {
     "data": {
      "text/plain": [
       "26"
      ]
     },
     "execution_count": 6,
     "metadata": {},
     "output_type": "execute_result"
    }
   ],
   "source": [
    "len(char_scores_by_position)"
   ]
  },
  {
   "cell_type": "code",
   "execution_count": 7,
   "id": "bf26d84c-486a-4378-a051-2e3aa5ccb5aa",
   "metadata": {},
   "outputs": [
    {
     "name": "stdout",
     "output_type": "stream",
     "text": [
      "CARES\n"
     ]
    }
   ],
   "source": [
    "known_greys = []\n",
    "known_yellows = {}\n",
    "word_scores_by_position = score_words_by_position(valid_words, char_scores_by_position, known_greys, known_yellows)\n",
    "guess = Counter(word_scores_by_position).most_common()[0]\n",
    "print(guess[0])"
   ]
  },
  {
   "cell_type": "code",
   "execution_count": 8,
   "id": "f590eae3-3614-47c8-bfda-8abd5718477a",
   "metadata": {},
   "outputs": [
    {
     "name": "stdout",
     "output_type": "stream",
     "text": [
      "RAINY\n"
     ]
    }
   ],
   "source": [
    "# Enter Wordle response as a list. Yellow = 1, Green = 2, Grey = 0. So for CARES if you get C as yellow, A as green, and rest as grey, response would be [1,2,0,0,0]\n",
    "response = [0,2,1,0,0]\n",
    "\n",
    "char_scores_by_position = update_char_scores(char_scores_by_position, guess[0], response)\n",
    "known_greys = update_greys(known_greys, guess[0], response)\n",
    "known_yellows = update_yellows(known_yellows, guess[0], response)\n",
    "word_scores_by_position = score_words_by_position(valid_words, char_scores_by_position, known_greys, known_yellows)\n",
    "guess = Counter(word_scores_by_position).most_common()[0]\n",
    "print(guess[0])"
   ]
  },
  {
   "cell_type": "markdown",
   "id": "35fc221d-6017-4dcb-a782-8490cd9e538a",
   "metadata": {},
   "source": [
    "Repeat above cell till correct answer "
   ]
  },
  {
   "cell_type": "code",
   "execution_count": 9,
   "id": "12be167b-eaf5-4e3b-bd99-e50a1531ab1f",
   "metadata": {},
   "outputs": [
    {
     "name": "stdout",
     "output_type": "stream",
     "text": [
      "FAURD\n"
     ]
    }
   ],
   "source": [
    "# Enter Wordle response as a list. Yellow = 1, Green = 2, Grey = 0. So for CARES if you get C as yellow, A as green, and rest as grey, response would be [1,2,0,0,0]\n",
    "response = [1,2,0,0,0]\n",
    "\n",
    "char_scores_by_position = update_char_scores(char_scores_by_position, guess[0], response)\n",
    "known_greys = update_greys(known_greys, guess[0], response)\n",
    "known_yellows = update_yellows(known_yellows, guess[0], response)\n",
    "word_scores_by_position = score_words_by_position(valid_words, char_scores_by_position, known_greys, known_yellows)\n",
    "guess = Counter(word_scores_by_position).most_common()[0]\n",
    "print(guess[0])"
   ]
  },
  {
   "cell_type": "markdown",
   "id": "dc75ed23-3116-4fe7-8235-86a89c619d63",
   "metadata": {},
   "source": [
    "Repeat above cell till correct answer "
   ]
  },
  {
   "cell_type": "code",
   "execution_count": 10,
   "id": "c52fc8c5-7439-4d8d-889e-39af1f8f88d2",
   "metadata": {},
   "outputs": [
    {
     "name": "stdout",
     "output_type": "stream",
     "text": [
      "FAVOR\n"
     ]
    }
   ],
   "source": [
    "# Enter Wordle response as a list. Yellow = 1, Green = 2, Grey = 0. So for CARES if you get C as yellow, A as green, and rest as grey, response would be [1,2,0,0,0]\n",
    "response = [2,2,0,1,0]\n",
    "\n",
    "char_scores_by_position = update_char_scores(char_scores_by_position, guess[0], response)\n",
    "known_greys = update_greys(known_greys, guess[0], response)\n",
    "known_yellows = update_yellows(known_yellows, guess[0], response)\n",
    "word_scores_by_position = score_words_by_position(valid_words, char_scores_by_position, known_greys, known_yellows)\n",
    "guess = Counter(word_scores_by_position).most_common()[0]\n",
    "print(guess[0])"
   ]
  },
  {
   "cell_type": "markdown",
   "id": "a4d5c41d-5108-445c-b156-7997b0420408",
   "metadata": {},
   "source": [
    "Repeat above cell till correct answer "
   ]
  },
  {
   "cell_type": "code",
   "execution_count": null,
   "id": "86bfb6ef-9a3f-4ef3-b9c1-b6bde5eb8b85",
   "metadata": {},
   "outputs": [],
   "source": []
  }
 ],
 "metadata": {
  "kernelspec": {
   "display_name": "Python 3",
   "language": "python",
   "name": "python3"
  },
  "language_info": {
   "codemirror_mode": {
    "name": "ipython",
    "version": 3
   },
   "file_extension": ".py",
   "mimetype": "text/x-python",
   "name": "python",
   "nbconvert_exporter": "python",
   "pygments_lexer": "ipython3",
   "version": "3.8.8"
  }
 },
 "nbformat": 4,
 "nbformat_minor": 5
}
