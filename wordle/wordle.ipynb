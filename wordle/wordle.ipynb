{
 "cells": [
  {
   "cell_type": "markdown",
   "id": "b73a453b-b2ba-4d11-a31b-d71395014d6d",
   "metadata": {},
   "source": [
    "Solves Wordle game (https://www.powerlanguage.co.uk/wordle/)\n",
    "\n",
    "\n",
    "Required: Download Collins Scrabble words dictionary from following location:\n",
    "\n",
    "https://drive.google.com/file/d/1oGDf1wjWp5RF_X9C7HoedhIWMh5uJs8s/view (Also available in github along with this notebook)"
   ]
  },
  {
   "cell_type": "code",
   "execution_count": 1,
   "id": "f9e01893-d4d7-47e6-8e3d-d3190cd99929",
   "metadata": {},
   "outputs": [],
   "source": [
    "from collections import Counter, defaultdict\n",
    "import copy\n",
    "from typing import List, Optional, Dict, Tuple\n"
   ]
  },
  {
   "cell_type": "code",
   "execution_count": 2,
   "id": "656be81d-3f0e-4074-8065-e94093386189",
   "metadata": {},
   "outputs": [],
   "source": [
    "def dedup_scorer(word, \n",
    "                 char_scores,\n",
    "                 known_greys: List[str] = None, \n",
    "                 known_yellows: Dict[str,List[int]] = None) -> int:\n",
    "    \"\"\"\n",
    "    When a char occurs multiple times in a word, this returns the score by counting it only in the most frequent position\n",
    "    word: Current word for which score should be computed\n",
    "    char_scores: Dictionary with each alphabet as key, and value is another dictionary with char position(0 to 4) as keys and word frequency in that position as values\n",
    "    known_greys: List of alphabets that are known to be not present in the word. Response from wordle\n",
    "    known_yellows: Dictionary with yellow colored alphabets as keys, and values as positions where they are known to be absent\n",
    "    Returns: score with below logic\n",
    "    Logic: If the word contains any char from known_greys or char from known_yellows with char in same position known to be invalid, score is automatically zero.\n",
    "    Else:\n",
    "    For every character, score is the no:of words where the character is seen in same position. \n",
    "    If a char is present multiple times in word, it is counted only once in the position where score is highest.\n",
    "    These char level scores are summed up to give word score\n",
    "    \"\"\"\n",
    "    chars = list(word)\n",
    "    if known_greys:\n",
    "        for char in chars:\n",
    "            if char in known_greys:\n",
    "                return 0\n",
    "    if known_yellows:\n",
    "        for char, pos_list in known_yellows.items():\n",
    "            if char not in chars:\n",
    "                return 0\n",
    "            for pos in pos_list:\n",
    "                if chars[pos] == char:\n",
    "                    return 0\n",
    "    if max([chars.count(char) for char in chars]) == 1:\n",
    "        s=0\n",
    "        for pos, char in enumerate(chars):\n",
    "            s+=char_scores[char].get(pos,0)\n",
    "    else:\n",
    "        # A character is found more than once in the token. It gets counted only once - An exception if the score is 100000, indicating it is a green letter. i.e., known to be in that place.\n",
    "        s=0\n",
    "        char_counter = defaultdict(list)\n",
    "        for pos, char in enumerate(chars):\n",
    "            char_counter[char].append(pos)\n",
    "        for char, pos_list in char_counter.items():\n",
    "            max_score = 0\n",
    "            for pos in pos_list:\n",
    "                if char_scores[char].get(pos, 0) == 100000:\n",
    "                    s+=100000\n",
    "                elif char_scores[char].get(pos,0)>max_score:\n",
    "                    max_score = char_scores[char][pos]\n",
    "            s += max_score\n",
    "\n",
    "    return s\n",
    "\n",
    "def score_words_by_position(words_list: List[str], \n",
    "                            char_scores: Dict[str, Dict[int, int]],\n",
    "                            known_greys: List[str] = None,\n",
    "                            known_yellows: Dict[str,List[int]] = None):\n",
    "    \"\"\"\n",
    "    For each word, score is from term frequency at that position. If word contains a word more than once, it gets only one score - whichever is highest.\n",
    "    \"\"\"\n",
    "    word_scores = {}\n",
    "    for word in words_list:\n",
    "        word_scores[word] = dedup_scorer(word, char_scores, known_greys, known_yellows)\n",
    "    return word_scores\n",
    "\n",
    "def update_char_scores(char_scores_by_pos, wordle_word, wordle_response: Tuple[int]) -> Dict[str, Dict[int, int]]:\n",
    "    new_scores = copy.deepcopy(char_scores_by_pos)\n",
    "    for position, char in enumerate(wordle_word):\n",
    "        if wordle_response[position] == 0:\n",
    "            for pos in range(5):\n",
    "                new_scores[char][pos] = 0\n",
    "        elif wordle_response[position] == 1:\n",
    "            new_scores[char][position] = 0\n",
    "        elif wordle_response[position] == 2:\n",
    "            new_scores[char][position] = 100000\n",
    "    return new_scores\n",
    "        \n",
    "\n",
    "def update_greys(current_greys: List[str], token: str, wordle_response: List[int]):\n",
    "    current_greys_upd = current_greys.copy()\n",
    "    for pos, char in enumerate(list(token)):\n",
    "        if char in current_greys_upd:\n",
    "            # known info.\n",
    "            continue\n",
    "        elif wordle_response[pos] == 0:\n",
    "            ## Check if the same char is present multiple times with different responses\n",
    "            if max([score for position, score in enumerate(wordle_response) if token[position] == char]) ==0:\n",
    "                current_greys_upd.append(char)\n",
    "    return current_greys_upd\n",
    "\n",
    "def update_yellows(current_yellows: Dict[str, List[int]], token: str, wordle_response: List[int]):\n",
    "    current_yellows_upd = copy.deepcopy(current_yellows)\n",
    "    for pos, char in enumerate(token):\n",
    "        if wordle_response[pos] == 1:\n",
    "            if char not in current_yellows_upd:\n",
    "                current_yellows_upd[char] = []\n",
    "            if pos not in current_yellows_upd[char]:\n",
    "                current_yellows_upd[char].append(pos)\n",
    "    return current_yellows_upd"
   ]
  },
  {
   "cell_type": "code",
   "execution_count": 3,
   "id": "6355ec28-2ba8-4088-9ed7-d8f794b1efbe",
   "metadata": {},
   "outputs": [],
   "source": [
    "with open(\"Collins Scrabble Words (2019).txt\",\"r\") as f:\n",
    "    word_list = f.read().splitlines()\n",
    "WORD_LENGTH = 5\n",
    "\n",
    "valid_words = [word for word in word_list if len(word) == WORD_LENGTH]"
   ]
  },
  {
   "cell_type": "code",
   "execution_count": 4,
   "id": "c4fbe0d0-c294-4e11-9c9d-68cd279b38b9",
   "metadata": {},
   "outputs": [],
   "source": [
    "def get_char_scores(word_list: List[str]):\n",
    "    char_scores_by_position = defaultdict(dict)\n",
    "    for word in word_list:\n",
    "        for position, char in enumerate(list(word)):\n",
    "            char_score_ = char_scores_by_position[char]\n",
    "            if char_score_.get(position) is None:\n",
    "                char_score_[position] = 0\n",
    "            char_score_[position] += 1\n",
    "    return char_scores_by_position"
   ]
  },
  {
   "cell_type": "code",
   "execution_count": 6,
   "id": "50c22fdb-c98d-48a9-a4fe-5d898e6e324c",
   "metadata": {},
   "outputs": [],
   "source": [
    "def guess_next_word(valid_words, known_greys, known_yellows, char_scores_by_position, current_guess=None, current_response=None):\n",
    "    if current_guess is not None:\n",
    "        char_scores_by_position = update_char_scores(char_scores_by_position, current_guess, current_response)\n",
    "        known_greys = update_greys(known_greys, current_guess, current_response)\n",
    "        known_yellows = update_yellows(known_yellows, current_guess, current_response)\n",
    "    word_scores_by_position = score_words_by_position(valid_words, char_scores_by_position, known_greys, known_yellows)\n",
    "    guess = Counter(word_scores_by_position).most_common()[0][0]\n",
    "    return guess, char_scores_by_position, known_greys, known_yellows"
   ]
  },
  {
   "cell_type": "code",
   "execution_count": 10,
   "id": "e8c681ff-85fd-4bba-8ec6-942a29e55bda",
   "metadata": {},
   "outputs": [
    {
     "name": "stdout",
     "output_type": "stream",
     "text": [
      "Guess no 1: CARES\n"
     ]
    }
   ],
   "source": [
    "char_scores_by_position = get_char_scores(valid_words)\n",
    "known_greys = []\n",
    "known_yellows = {}\n",
    "guess, char_scores_by_position, known_greys, known_yellows = guess_next_word(valid_words, known_greys, known_yellows, char_scores_by_position)\n",
    "n=1\n",
    "print(f\"Guess no {n}: {guess}\")"
   ]
  },
  {
   "cell_type": "markdown",
   "id": "c15d9038-73f1-4ec5-8236-0f5b96d7e2dd",
   "metadata": {},
   "source": [
    "Enter above guess. Get response and **repeat below cell till you get the answer** by entering your response\n",
    "* Response to be entered as list of integers.  Yellow = 1, Green = 2, Grey = 0. So for CARES if you get C as yellow, A as green, and rest as grey, response would be [1,2,0,0,0]\n"
   ]
  },
  {
   "cell_type": "code",
   "execution_count": 11,
   "id": "5234d260-f27a-4656-aa06-ee51b8cdb223",
   "metadata": {},
   "outputs": [
    {
     "name": "stdout",
     "output_type": "stream",
     "text": [
      "Guess no 2: ROCKY\n"
     ]
    }
   ],
   "source": [
    "# Enter Wordle response as a list. Yellow = 1, Green = 2, Grey = 0. So for CARES if you get C as yellow, A as green, and rest as grey, response would be [1,2,0,0,0]\n",
    "response = [1,0,1,0,0]\n",
    "n+=1\n",
    "guess, char_scores_by_position, known_greys, known_yellows = guess_next_word(valid_words, known_greys, known_yellows, char_scores_by_position, guess, response)\n",
    "print(f\"Guess no {n}: {guess}\")"
   ]
  },
  {
   "cell_type": "code",
   "execution_count": 12,
   "id": "0ba2d8c3-c242-4758-8c79-cffa176d7a74",
   "metadata": {},
   "outputs": [
    {
     "name": "stdout",
     "output_type": "stream",
     "text": [
      "Guess no 3: BRICK\n"
     ]
    }
   ],
   "source": [
    "# Enter Wordle response as a list. Yellow = 1, Green = 2, Grey = 0. So for CARES if you get C as yellow, A as green, and rest as grey, response would be [1,2,0,0,0]\n",
    "response = [1,0,1,1,0]\n",
    "n+=1\n",
    "guess, char_scores_by_position, known_greys, known_yellows = guess_next_word(valid_words, known_greys, known_yellows, char_scores_by_position, guess, response)\n",
    "print(f\"Guess no {n}: {guess}\")"
   ]
  },
  {
   "cell_type": "code",
   "execution_count": 13,
   "id": "4c11b2d1-9ab0-480a-93c0-59cb388d5b3b",
   "metadata": {},
   "outputs": [
    {
     "name": "stdout",
     "output_type": "stream",
     "text": [
      "Guess no 4: PRICK\n"
     ]
    }
   ],
   "source": [
    "# Enter Wordle response as a list. Yellow = 1, Green = 2, Grey = 0. So for CARES if you get C as yellow, A as green, and rest as grey, response would be [1,2,0,0,0]\n",
    "response = [0,2,2,2,2]\n",
    "n+=1\n",
    "guess, char_scores_by_position, known_greys, known_yellows = guess_next_word(valid_words, known_greys, known_yellows, char_scores_by_position, guess, response)\n",
    "print(f\"Guess no {n}: {guess}\")"
   ]
  },
  {
   "cell_type": "markdown",
   "id": "3975f1ea-a317-4ac3-94f6-cb63d86f6915",
   "metadata": {},
   "source": [
    "Repeat above cell till correct answer"
   ]
  },
  {
   "cell_type": "markdown",
   "id": "53f4a123-fc6f-413e-bce3-c5b9c31c8a33",
   "metadata": {},
   "source": [
    "# Simulation \n",
    "To test effectiveness of the algo"
   ]
  },
  {
   "cell_type": "code",
   "execution_count": 10,
   "id": "737540ae-09aa-4a57-a33f-4abcc1ba16a3",
   "metadata": {},
   "outputs": [],
   "source": [
    "def get_wordle_response(prediction:str, answer: str) -> List[int]:\n",
    "    response = [None] * len(answer)\n",
    "    pred_chars = list(prediction)\n",
    "    answer_chars = list(answer)\n",
    "    for pos, char in enumerate(pred_chars):\n",
    "        if char == answer_chars[pos]:\n",
    "            response[pos] = 2\n",
    "            answer_chars[pos] = None\n",
    "            pred_chars[pos] = None\n",
    "    for pos, char in enumerate(pred_chars):\n",
    "        if pred_chars[pos]:\n",
    "            if char in answer_chars:\n",
    "                response[pos] = 1\n",
    "                answer_chars[answer_chars.index(char)] = None\n",
    "            else:\n",
    "                response[pos] = 0\n",
    "    return response\n",
    "\n",
    "def simulate_wordle(answer_word, valid_words):\n",
    "    known_greys = []\n",
    "    known_yellows = {}\n",
    "    char_scores_by_position = get_char_scores(valid_words)\n",
    "    word_scores_by_position = score_words_by_position(valid_words, char_scores_by_position, known_greys, known_yellows)\n",
    "    guess = Counter(word_scores_by_position).most_common()[0][0]\n",
    "    response = get_wordle_response(guess, answer_word)\n",
    "    n_guesses = 1\n",
    "    guess_list = [guess]\n",
    "    while min(response)!=2:\n",
    "        char_scores_by_position =  update_char_scores(char_scores_by_position, guess, response)\n",
    "        known_greys = update_greys(known_greys, guess, response)\n",
    "        known_yellows = update_yellows(known_yellows, guess, response)\n",
    "        word_scores_by_position = score_words_by_position(valid_words, char_scores_by_position, known_greys, known_yellows)\n",
    "        guess = Counter(word_scores_by_position).most_common()[0][0]\n",
    "        guess_list.append(guess)\n",
    "        response = get_wordle_response(guess, answer_word)\n",
    "        n_guesses += 1\n",
    "        if n_guesses > 10:\n",
    "            break\n",
    "    return guess_list"
   ]
  },
  {
   "cell_type": "code",
   "execution_count": 11,
   "id": "30f16e10-da2a-405b-bf5a-f9fd1fa51111",
   "metadata": {},
   "outputs": [
    {
     "data": {
      "text/plain": [
       "['CARES', 'TALCY', 'PANIC']"
      ]
     },
     "execution_count": 11,
     "metadata": {},
     "output_type": "execute_result"
    }
   ],
   "source": [
    "simulate_wordle(\"PANIC\", valid_words)"
   ]
  },
  {
   "cell_type": "code",
   "execution_count": 12,
   "id": "2b2f66db-f996-4666-9b45-65595b48cdbf",
   "metadata": {},
   "outputs": [],
   "source": [
    "import numpy as np\n",
    "from tqdm import tqdm\n",
    "import random"
   ]
  },
  {
   "cell_type": "code",
   "execution_count": 13,
   "id": "884baa01-4b27-4119-8a32-f214de7b806d",
   "metadata": {
    "tags": []
   },
   "outputs": [
    {
     "name": "stderr",
     "output_type": "stream",
     "text": [
      "100%|██████████| 500/500 [00:48<00:00, 10.31it/s]"
     ]
    },
    {
     "name": "stdout",
     "output_type": "stream",
     "text": [
      "CPU times: user 48.2 s, sys: 328 ms, total: 48.5 s\n",
      "Wall time: 48.5 s\n"
     ]
    },
    {
     "name": "stderr",
     "output_type": "stream",
     "text": [
      "\n"
     ]
    }
   ],
   "source": [
    "%%time\n",
    "n_guesses = []\n",
    "random_choices = random.choices(valid_words, k=500)\n",
    "for word in tqdm(random_choices):\n",
    "    word_seq = simulate_wordle(word, valid_words)\n",
    "    n_guesses.append(len(word_seq))"
   ]
  },
  {
   "cell_type": "code",
   "execution_count": 14,
   "id": "9c1a14b7-f488-4a7c-ac3c-fc275ac3fbce",
   "metadata": {},
   "outputs": [
    {
     "data": {
      "text/plain": [
       "11"
      ]
     },
     "execution_count": 14,
     "metadata": {},
     "output_type": "execute_result"
    }
   ],
   "source": [
    "max(n_guesses)"
   ]
  },
  {
   "cell_type": "code",
   "execution_count": 15,
   "id": "d6a5b82c-a05e-422c-9217-58de13dea257",
   "metadata": {},
   "outputs": [],
   "source": [
    "import matplotlib.pyplot as plt\n",
    "import seaborn as sns"
   ]
  },
  {
   "cell_type": "code",
   "execution_count": 16,
   "id": "519f66e1-279b-4af3-8b1c-7b5071fcff7a",
   "metadata": {},
   "outputs": [
    {
     "data": {
      "image/png": "[encoded data removed]",
      "text/plain": [
       "<Figure size 432x288 with 1 Axes>"
      ]
     },
     "metadata": {
      "needs_background": "light"
     },
     "output_type": "display_data"
    }
   ],
   "source": [
    "sns.barplot(x=list(Counter(n_guesses).keys()), y=list(Counter(n_guesses).values()), color=\"salmon\")\n",
    "plt.xlabel(\"No:of guesses\")\n",
    "plt.ylabel(\"No:of Wordles\")\n",
    "plt.title(\"No:of guesses algo takes to solve a Wordle\");"
   ]
  },
  {
   "cell_type": "code",
   "execution_count": 17,
   "id": "28bc92f7-83a4-49ec-86c9-43cb55818068",
   "metadata": {},
   "outputs": [
    {
     "name": "stdout",
     "output_type": "stream",
     "text": [
      "78.60 % of words in the dictionary are solvable by this method\n"
     ]
    }
   ],
   "source": [
    "print(f\"{len([g for g in n_guesses if g<=6])/len(n_guesses)* 100:.2f} % of words in the dictionary are solvable by this method\")"
   ]
  },
  {
   "cell_type": "code",
   "execution_count": 18,
   "id": "86bfb6ef-9a3f-4ef3-b9c1-b6bde5eb8b85",
   "metadata": {},
   "outputs": [
    {
     "name": "stdout",
     "output_type": "stream",
     "text": [
      "4.49 is avg no:of takes when it can actually solve the word\n"
     ]
    }
   ],
   "source": [
    "print(f\"{np.mean([g for g in n_guesses if g<=6]):.2f} is avg no:of takes when it can actually solve the word\")"
   ]
  },
  {
   "cell_type": "markdown",
   "id": "f43fa9da-0803-46d5-8ede-708de2852e51",
   "metadata": {},
   "source": [
    "### DEBUG"
   ]
  },
  {
   "cell_type": "code",
   "execution_count": 19,
   "id": "f9521a29-ee8a-439b-b811-b526891efca5",
   "metadata": {},
   "outputs": [
    {
     "name": "stdout",
     "output_type": "stream",
     "text": [
      "VOLED\n",
      "CAREX\n",
      "GROKS\n",
      "HELLS\n",
      "DREYS\n",
      "SPANE\n"
     ]
    }
   ],
   "source": [
    "incorrect_words = 0\n",
    "for pos, n in enumerate(n_guesses):\n",
    "    if n>6:\n",
    "        incorrect_words+=1\n",
    "        print(random_choices[pos])\n",
    "    if incorrect_words>5:\n",
    "        break"
   ]
  },
  {
   "cell_type": "code",
   "execution_count": 20,
   "id": "3c96d972-4107-46c9-b858-ea120b43411c",
   "metadata": {},
   "outputs": [
    {
     "data": {
      "text/plain": [
       "['CARES', 'SENTS', 'PEELS', 'MEEDS', 'BEEFS', 'GEEKS', 'WEEKS']"
      ]
     },
     "execution_count": 20,
     "metadata": {},
     "output_type": "execute_result"
    }
   ],
   "source": [
    "simulate_wordle(\"WEEKS\", valid_words)"
   ]
  },
  {
   "cell_type": "code",
   "execution_count": 21,
   "id": "f4fafb92-e390-4091-a422-cf958262cac0",
   "metadata": {},
   "outputs": [
    {
     "data": {
      "text/plain": [
       "{3: 0, 4: 0, 2: 0, 1: 0, 0: 0}"
      ]
     },
     "execution_count": 21,
     "metadata": {},
     "output_type": "execute_result"
    }
   ],
   "source": [
    "char_scores_by_position.get(\"E\")"
   ]
  },
  {
   "cell_type": "code",
   "execution_count": 22,
   "id": "5bcc4b61-e83c-4a20-988c-ea8023f56197",
   "metadata": {},
   "outputs": [
    {
     "name": "stdout",
     "output_type": "stream",
     "text": [
      "CARES\n",
      "[0, 0, 0, 1, 2]\n",
      "['C', 'A', 'R']\n",
      "{'E': [3]}\n",
      "SENTS\n",
      "[0, 2, 0, 0, 2]\n",
      "['C', 'A', 'R', 'N', 'T']\n",
      "{'E': [3]}\n",
      "PEELS\n",
      "[0, 2, 2, 0, 2]\n",
      "['C', 'A', 'R', 'N', 'T', 'P', 'L']\n",
      "{'E': [3]}\n",
      "MEEDS\n",
      "[0, 2, 2, 0, 2]\n",
      "['C', 'A', 'R', 'N', 'T', 'P', 'L', 'M', 'D']\n",
      "{'E': [3]}\n",
      "BEEFS\n",
      "[0, 2, 2, 0, 2]\n",
      "['C', 'A', 'R', 'N', 'T', 'P', 'L', 'M', 'D', 'B', 'F']\n",
      "{'E': [3]}\n",
      "GEEKS\n",
      "[0, 2, 2, 2, 2]\n",
      "['C', 'A', 'R', 'N', 'T', 'P', 'L', 'M', 'D', 'B', 'F', 'G']\n",
      "{'E': [3]}\n"
     ]
    }
   ],
   "source": [
    "answer_word = \"WEEKS\"\n",
    "known_greys = []\n",
    "known_yellows = {}\n",
    "char_scores_by_position = get_char_scores(valid_words)\n",
    "word_scores_by_position = score_words_by_position(valid_words, char_scores_by_position, known_greys, known_yellows)\n",
    "guess = Counter(word_scores_by_position).most_common()[0][0]\n",
    "response = get_wordle_response(guess, answer_word)\n",
    "n_guesses = 1\n",
    "guess_list = [guess]\n",
    "while min(response)!=2:\n",
    "    char_scores_by_position =  update_char_scores(char_scores_by_position, guess, response)\n",
    "    known_greys = update_greys(known_greys, guess, response)\n",
    "    known_yellows = update_yellows(known_yellows, guess, response)\n",
    "    print(guess)\n",
    "    print(response)\n",
    "    print(known_greys)\n",
    "    print(known_yellows)\n",
    "    word_scores_by_position = score_words_by_position(valid_words, char_scores_by_position, known_greys, known_yellows)\n",
    "    guess = Counter(word_scores_by_position).most_common()[0][0]\n",
    "    guess_list.append(guess)\n",
    "    response = get_wordle_response(guess, answer_word)\n",
    "    n_guesses += 1\n",
    "    if n_guesses > 10:\n",
    "        break"
   ]
  },
  {
   "cell_type": "markdown",
   "id": "625df5bd-f38f-4326-bff5-58fa12af03fb",
   "metadata": {},
   "source": [
    "## Case against above approach"
   ]
  },
  {
   "cell_type": "code",
   "execution_count": 15,
   "id": "80ca4bc7-37c3-4dc9-bbe9-d2739b8b8054",
   "metadata": {},
   "outputs": [
    {
     "data": {
      "text/plain": [
       "['BRICK', 'CRICK', 'ERICK', 'PRICK', 'TRICK', 'WRICK']"
      ]
     },
     "execution_count": 15,
     "metadata": {},
     "output_type": "execute_result"
    }
   ],
   "source": [
    "[w for w in valid_words if w.endswith(\"RICK\")]"
   ]
  },
  {
   "cell_type": "code",
   "execution_count": 21,
   "id": "8a8e84bb-a468-49ac-822b-a9ee235f7169",
   "metadata": {},
   "outputs": [],
   "source": [
    "n_word_matches = {}\n",
    "chars_list = \"BCEPTW\"\n",
    "for word in valid_words:\n",
    "    n_word_matches[word] = len(set([n for n in word if n in chars_list]))"
   ]
  },
  {
   "cell_type": "code",
   "execution_count": 22,
   "id": "1502dd6d-23c9-499c-8142-4cccabe4c025",
   "metadata": {},
   "outputs": [
    {
     "data": {
      "text/plain": [
       "[('BECAP', 4),\n",
       " ('BEPAT', 4),\n",
       " ('BEWET', 4),\n",
       " ('BICEP', 4),\n",
       " ('BOWET', 4),\n",
       " ('CLEPT', 4),\n",
       " ('CREPT', 4),\n",
       " ('EPACT', 4),\n",
       " ('PEWIT', 4),\n",
       " ('SPECT', 4)]"
      ]
     },
     "execution_count": 22,
     "metadata": {},
     "output_type": "execute_result"
    }
   ],
   "source": [
    "Counter(n_word_matches).most_common(10)"
   ]
  },
  {
   "cell_type": "markdown",
   "id": "d6b0ab82-f878-4def-9095-698661156a5e",
   "metadata": {},
   "source": [
    "**If after first guess, we found \"RICK\" to be four characters in place apart from the first, we have 6 possible guesses. It is luck dependent that we get it right, and 1/6 chance we need 6 tries**\n",
    "Instead, first guess can be BICEP. We will know the correct word with a 4/6 probability. So 4/6 prob that we need 2 chances (1st for exploration, 2nd for actual guess). If actual word is TRICK, we can use 2nd chance to try TRICK. 50% probability it may fail, but we now know the word for sure. So 1/6 prob that we need 3 guesses, and 5/6 chance we need 2 guesses. "
   ]
  },
  {
   "cell_type": "code",
   "execution_count": null,
   "id": "2be57426-b117-4d50-9e1f-f4c56bde62aa",
   "metadata": {},
   "outputs": [],
   "source": []
  }
 ],
 "metadata": {
  "kernelspec": {
   "display_name": "Python 3",
   "language": "python",
   "name": "python3"
  },
  "language_info": {
   "codemirror_mode": {
    "name": "ipython",
    "version": 3
   },
   "file_extension": ".py",
   "mimetype": "text/x-python",
   "name": "python",
   "nbconvert_exporter": "python",
   "pygments_lexer": "ipython3",
   "version": "3.8.8"
  }
 },
 "nbformat": 4,
 "nbformat_minor": 5
}
