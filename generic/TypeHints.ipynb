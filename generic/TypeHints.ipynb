{
 "cells": [
  {
   "cell_type": "markdown",
   "metadata": {},
   "source": [
    "Ref: https://docs.python.org/3/library/typing.html\n"
   ]
  },
  {
   "cell_type": "code",
   "execution_count": 25,
   "metadata": {},
   "outputs": [],
   "source": [
    "import datetime\n",
    "from typing import List, NewType, Dict\n",
    "\n",
    "from typing_extensions import TypedDict"
   ]
  },
  {
   "cell_type": "code",
   "execution_count": 2,
   "metadata": {},
   "outputs": [],
   "source": [
    "def greeting(name: str) -> str:\n",
    "    return f\"Hello {name}\""
   ]
  },
  {
   "cell_type": "code",
   "execution_count": 3,
   "metadata": {},
   "outputs": [
    {
     "data": {
      "text/plain": [
       "'Hello Dileep'"
      ]
     },
     "execution_count": 3,
     "metadata": {},
     "output_type": "execute_result"
    }
   ],
   "source": [
    "greeting(\"Dileep\")"
   ]
  },
  {
   "cell_type": "code",
   "execution_count": 4,
   "metadata": {},
   "outputs": [
    {
     "data": {
      "text/plain": [
       "[0.3, 0.6, 0.8999999999999999]"
      ]
     },
     "execution_count": 4,
     "metadata": {},
     "output_type": "execute_result"
    }
   ],
   "source": [
    "# Custom types ex: List[int]\n",
    "\n",
    "Vector = List[int]\n",
    "\n",
    "def multiply(multiple: float, nums: List[int]) -> Vector:\n",
    "    return [num * multiple for num in nums]\n",
    "\n",
    "multiply(0.3, [1,2,3])"
   ]
  },
  {
   "cell_type": "code",
   "execution_count": 5,
   "metadata": {},
   "outputs": [],
   "source": [
    "# Can be objects, custom types, dict with custom keys and values\n",
    "\n",
    "UserId = NewType('UserId', int)\n",
    "some_id = UserId(12345)\n",
    "\n",
    "output = UserId(123) + UserId(421)"
   ]
  },
  {
   "cell_type": "code",
   "execution_count": 6,
   "metadata": {},
   "outputs": [
    {
     "data": {
      "text/plain": [
       "int"
      ]
     },
     "execution_count": 6,
     "metadata": {},
     "output_type": "execute_result"
    }
   ],
   "source": [
    "def sum_userids(u1: UserId, u2: UserId) -> UserId:\n",
    "    return u1 + u2\n",
    "\n",
    "type(UserId(1) + UserId(2))"
   ]
  },
  {
   "cell_type": "code",
   "execution_count": 26,
   "metadata": {},
   "outputs": [],
   "source": [
    "def decay_dict(original_dict: Dict[str, List[float]], \n",
    "               prev_timestamp: datetime.datetime.timestamp, \n",
    "               curr_timestamp: datetime.datetime.timestamp, \n",
    "               decay_factor: float) -> Dict[str, List[float]]:\n",
    "    time_delta = (curr_timestamp - prev_timestamp).total_seconds()\n",
    "    decay_value = decay_factor**time_delta\n",
    "    upd_dict = {}\n",
    "    for k, v in original_dict.items():\n",
    "        upd_dict[k] = [e * decay_value for e in v]\n",
    "    return upd_dict"
   ]
  },
  {
   "cell_type": "code",
   "execution_count": 31,
   "metadata": {},
   "outputs": [],
   "source": [
    "base = {\"a\": [1., 2., 3.], \"b\": [0., 1., -2.]}\n",
    "curr = datetime.datetime.now()\n",
    "past = curr + datetime.timedelta(-2)\n",
    "decayed = decay_dict(base, past, curr, 0.999999999)"
   ]
  },
  {
   "cell_type": "code",
   "execution_count": 34,
   "metadata": {},
   "outputs": [
    {
     "data": {
      "text/plain": [
       "{'a': [0.99982721493386, 1.99965442986772, 2.99948164480158],\n",
       " 'b': [0.0, 0.99982721493386, -1.99965442986772]}"
      ]
     },
     "execution_count": 34,
     "metadata": {},
     "output_type": "execute_result"
    }
   ],
   "source": [
    "decayed"
   ]
  },
  {
   "cell_type": "code",
   "execution_count": null,
   "metadata": {},
   "outputs": [],
   "source": []
  }
 ],
 "metadata": {
  "kernelspec": {
   "display_name": "Python 3",
   "language": "python",
   "name": "python3"
  },
  "language_info": {
   "codemirror_mode": {
    "name": "ipython",
    "version": 3
   },
   "file_extension": ".py",
   "mimetype": "text/x-python",
   "name": "python",
   "nbconvert_exporter": "python",
   "pygments_lexer": "ipython3",
   "version": "3.6.8"
  }
 },
 "nbformat": 4,
 "nbformat_minor": 4
}
