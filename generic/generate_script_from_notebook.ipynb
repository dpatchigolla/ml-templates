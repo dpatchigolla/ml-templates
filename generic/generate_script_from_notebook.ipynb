{
 "cells": [
  {
   "cell_type": "markdown",
   "id": "c2fa6057-9345-46e0-b698-ff9df9f0367c",
   "metadata": {},
   "source": [
    "From Jupyter notebook, we can directly generate a python script. This can be done using the notebook magic comamnd `writefile [-a] filename.py`\n"
   ]
  },
  {
   "cell_type": "code",
   "execution_count": 1,
   "id": "ffa47e83-0403-4e8e-9f6b-f6c945a7b122",
   "metadata": {},
   "outputs": [
    {
     "name": "stdout",
     "output_type": "stream",
     "text": [
      "Overwriting test.py\n"
     ]
    }
   ],
   "source": [
    "%%writefile test.py\n",
    "\n",
    "def foo():\n",
    "    print(\"hello\")\n"
   ]
  },
  {
   "cell_type": "code",
   "execution_count": 2,
   "id": "82904c8f-e280-421c-ab23-22ea13b1228e",
   "metadata": {},
   "outputs": [],
   "source": [
    "from test import foo"
   ]
  },
  {
   "cell_type": "code",
   "execution_count": 3,
   "id": "8a9091a2-698e-47f2-9d16-2e0bb19a3f03",
   "metadata": {},
   "outputs": [
    {
     "name": "stdout",
     "output_type": "stream",
     "text": [
      "hello\n"
     ]
    }
   ],
   "source": [
    "foo()"
   ]
  },
  {
   "cell_type": "code",
   "execution_count": 4,
   "id": "d4a05b38-d9e4-49bf-9968-5289d24e3d57",
   "metadata": {},
   "outputs": [
    {
     "name": "stdout",
     "output_type": "stream",
     "text": [
      "\n",
      "def foo():\n",
      "    print(\"hello\")\n"
     ]
    }
   ],
   "source": [
    "!cat test.py"
   ]
  },
  {
   "cell_type": "markdown",
   "id": "555d8daf-db4d-4dbf-a5d0-1107abbcc77e",
   "metadata": {},
   "source": [
    "We can append to existing file by using `-a` as optional parameter. "
   ]
  },
  {
   "cell_type": "code",
   "execution_count": 5,
   "id": "85f843bf-1b8a-443e-9206-d77d6d98ba9b",
   "metadata": {},
   "outputs": [
    {
     "name": "stdout",
     "output_type": "stream",
     "text": [
      "Appending to test.py\n"
     ]
    }
   ],
   "source": [
    "%%writefile -a test.py\n",
    "\n",
    "def bar():\n",
    "    print(\"bar\")\n",
    "    \n",
    "    \n",
    "if __name__ == \"__main__\":\n",
    "    foo()"
   ]
  },
  {
   "cell_type": "code",
   "execution_count": 6,
   "id": "6980d6b4-94a3-4926-b42e-c92bef98f531",
   "metadata": {},
   "outputs": [
    {
     "name": "stdout",
     "output_type": "stream",
     "text": [
      "\n",
      "def foo():\n",
      "    print(\"hello\")\n",
      "\n",
      "def bar():\n",
      "    print(\"bar\")\n",
      "    \n",
      "    \n",
      "if __name__ == \"__main__\":\n",
      "    foo()\n"
     ]
    }
   ],
   "source": [
    "!cat test.py"
   ]
  },
  {
   "cell_type": "code",
   "execution_count": 7,
   "id": "b19f5b7e-694d-461e-924c-4c30d4a7f207",
   "metadata": {},
   "outputs": [
    {
     "name": "stdout",
     "output_type": "stream",
     "text": [
      "Function not defined\n"
     ]
    }
   ],
   "source": [
    "try:\n",
    "    bar()\n",
    "except:\n",
    "    print(\"Function not defined\")"
   ]
  },
  {
   "cell_type": "markdown",
   "id": "c2e46a5d-a8aa-4486-b0c7-4760a9573b8c",
   "metadata": {},
   "source": [
    "While the `writefile` magic writes cell content to an external script, it doesn't actually execute the lines. \n",
    "\n",
    "They need to be imported again as we see above. The function bar() got written to the file but it isn't defined because the lines didn't get executed. \n",
    "\n",
    "Below is a workaround by creating a custom magic command using the method `register_cell_magic`. With this, we can both execute cell contents and also write them at same time. so they need not be imported again."
   ]
  },
  {
   "cell_type": "code",
   "execution_count": 8,
   "id": "99f17972-f142-41b0-8198-b936370f6da3",
   "metadata": {},
   "outputs": [],
   "source": [
    "from IPython.core.magic import register_cell_magic\n",
    "\n",
    "\n",
    "@register_cell_magic\n",
    "def write_and_run(line, cell):\n",
    "    argz = line.split()\n",
    "    file = argz[-1]\n",
    "    mode = 'w'\n",
    "    if len(argz) == 2 and argz[0] == '-a':\n",
    "        mode = 'a'\n",
    "    with open(file, mode) as f:\n",
    "        f.write(cell)\n",
    "    get_ipython().run_cell(cell)"
   ]
  },
  {
   "cell_type": "code",
   "execution_count": 9,
   "id": "4150081a-7994-4a13-985c-86635e4fcb38",
   "metadata": {},
   "outputs": [],
   "source": [
    "# we can also declare file name as a variable and use that.\n",
    "file_preprocessing = \"write_and_run_test.py\""
   ]
  },
  {
   "cell_type": "code",
   "execution_count": 10,
   "id": "41296c4c-4f73-4ecd-85d7-ac4d933b5492",
   "metadata": {},
   "outputs": [],
   "source": [
    "%%write_and_run -a $file_preprocessing\n",
    "\n",
    "def foo():\n",
    "    print(\"Hello World\")"
   ]
  },
  {
   "cell_type": "code",
   "execution_count": 11,
   "id": "674a634d-6b2b-42c9-b651-89dea80c24e7",
   "metadata": {},
   "outputs": [
    {
     "name": "stdout",
     "output_type": "stream",
     "text": [
      "Hello World\n"
     ]
    }
   ],
   "source": [
    "foo()"
   ]
  },
  {
   "cell_type": "code",
   "execution_count": 12,
   "id": "0fd362a6-0f4e-40cc-a57f-135555592e21",
   "metadata": {},
   "outputs": [
    {
     "name": "stdout",
     "output_type": "stream",
     "text": [
      "\n",
      "def foo():\n",
      "    print(\"Hello World\")\n"
     ]
    }
   ],
   "source": [
    "!cat $file_preprocessing"
   ]
  },
  {
   "cell_type": "code",
   "execution_count": null,
   "id": "3dc1bdfc-a7ac-441e-ad13-e11280817313",
   "metadata": {},
   "outputs": [],
   "source": []
  }
 ],
 "metadata": {
  "kernelspec": {
   "display_name": "Python 3 (ipykernel)",
   "language": "python",
   "name": "python3"
  },
  "language_info": {
   "codemirror_mode": {
    "name": "ipython",
    "version": 3
   },
   "file_extension": ".py",
   "mimetype": "text/x-python",
   "name": "python",
   "nbconvert_exporter": "python",
   "pygments_lexer": "ipython3",
   "version": "3.9.7"
  }
 },
 "nbformat": 4,
 "nbformat_minor": 5
}
