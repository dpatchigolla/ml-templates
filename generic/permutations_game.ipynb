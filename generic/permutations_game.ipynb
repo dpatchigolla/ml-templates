{
 "cells": [
  {
   "cell_type": "markdown",
   "metadata": {},
   "source": [
    "```\n",
    "SEND + MORE = MONEY\n",
    "```\n",
    "Each letter is a number, no two letters mean same number, neither S nor M are 0. "
   ]
  },
  {
   "cell_type": "code",
   "execution_count": 1,
   "metadata": {},
   "outputs": [],
   "source": [
    "from itertools import permutations"
   ]
  },
  {
   "cell_type": "code",
   "execution_count": 11,
   "metadata": {},
   "outputs": [
    {
     "data": {
      "text/plain": [
       "8"
      ]
     },
     "execution_count": 11,
     "metadata": {},
     "output_type": "execute_result"
    }
   ],
   "source": [
    "len(set(\"s e n d m o r e m o n e y\".split()))"
   ]
  },
  {
   "cell_type": "code",
   "execution_count": 14,
   "metadata": {},
   "outputs": [],
   "source": [
    "mapping = [\"s\", \"e\", \"n\", \"d\", \"m\", \"o\", \"r\", \"y\"]"
   ]
  },
  {
   "cell_type": "code",
   "execution_count": 41,
   "metadata": {},
   "outputs": [],
   "source": [
    "def get_score(string, mapping):\n",
    "    s = 0\n",
    "    tens = 0\n",
    "    for char in reversed(string):\n",
    "        s = 10**tens * mapping[char] + s\n",
    "        tens+=1\n",
    "    return s"
   ]
  },
  {
   "cell_type": "code",
   "execution_count": 42,
   "metadata": {},
   "outputs": [
    {
     "data": {
      "text/plain": [
       "31479"
      ]
     },
     "execution_count": 42,
     "metadata": {},
     "output_type": "execute_result"
    }
   ],
   "source": [
    "get_score(\"moend\", dict(zip(mapping, perm)))"
   ]
  },
  {
   "cell_type": "code",
   "execution_count": 44,
   "metadata": {},
   "outputs": [],
   "source": [
    "from tqdm import tqdm"
   ]
  },
  {
   "cell_type": "code",
   "execution_count": 45,
   "metadata": {},
   "outputs": [
    {
     "name": "stderr",
     "output_type": "stream",
     "text": [
      "1736173it [00:11, 139521.88it/s]"
     ]
    },
    {
     "name": "stdout",
     "output_type": "stream",
     "text": [
      "{'s': 9, 'e': 5, 'n': 6, 'd': 7, 'm': 1, 'o': 0, 'r': 8, 'y': 2}\n"
     ]
    },
    {
     "name": "stderr",
     "output_type": "stream",
     "text": [
      "1736173it [00:30, 139521.88it/s]"
     ]
    }
   ],
   "source": [
    "\n",
    "for perm in tqdm(permutations(list(range(10)), 8)):\n",
    "    # Check if s or m are zeors\n",
    "    if perm[mapping.index(\"s\")] == 0 or perm[mapping.index(\"m\")] == 0:\n",
    "        continue\n",
    "    num_map = dict(zip(mapping, perm))\n",
    "    # Check equation\n",
    "    \"send\"\n",
    "    send = get_score(\"send\", num_map)\n",
    "    more = get_score(\"more\", num_map)\n",
    "    money = get_score(\"money\", num_map)\n",
    "    if send + more == money:\n",
    "        print(num_map)\n",
    "        break\n",
    "    else:\n",
    "        continue"
   ]
  },
  {
   "cell_type": "code",
   "execution_count": null,
   "metadata": {},
   "outputs": [],
   "source": []
  }
 ],
 "metadata": {
  "kernelspec": {
   "display_name": "Python 3",
   "language": "python",
   "name": "python3"
  },
  "language_info": {
   "codemirror_mode": {
    "name": "ipython",
    "version": 3
   },
   "file_extension": ".py",
   "mimetype": "text/x-python",
   "name": "python",
   "nbconvert_exporter": "python",
   "pygments_lexer": "ipython3",
   "version": "3.6.8"
  }
 },
 "nbformat": 4,
 "nbformat_minor": 4
}
